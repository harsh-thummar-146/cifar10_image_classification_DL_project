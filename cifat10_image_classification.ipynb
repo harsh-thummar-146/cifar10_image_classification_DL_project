{
  "nbformat": 4,
  "nbformat_minor": 0,
  "metadata": {
    "colab": {
      "name": "DL_25.ipynb",
      "provenance": [],
      "authorship_tag": "ABX9TyMlT418reAY+Z8Ugs5vscu7"
    },
    "kernelspec": {
      "name": "python3",
      "display_name": "Python 3"
    },
    "language_info": {
      "name": "python"
    }
  },
  "cells": [
    {
      "cell_type": "code",
      "metadata": {
        "id": "VMGYSRsed5sq"
      },
      "source": [
        "import tensorflow as tf\n",
        "from tensorflow.keras import datasets, layers, models\n",
        "import matplotlib.pyplot as plt\n",
        "import numpy as np"
      ],
      "execution_count": null,
      "outputs": []
    },
    {
      "cell_type": "code",
      "metadata": {
        "colab": {
          "base_uri": "https://localhost:8080/"
        },
        "id": "HTFCowrud6KT",
        "outputId": "012a5ce4-7570-436b-8608-2f5966dd8a8d"
      },
      "source": [
        "(X_train, y_train), (X_test,y_test) = datasets.cifar10.load_data()\n",
        "X_train.shape"
      ],
      "execution_count": null,
      "outputs": [
        {
          "output_type": "stream",
          "name": "stdout",
          "text": [
            "Downloading data from https://www.cs.toronto.edu/~kriz/cifar-10-python.tar.gz\n",
            "170500096/170498071 [==============================] - 2s 0us/step\n",
            "170508288/170498071 [==============================] - 2s 0us/step\n"
          ]
        },
        {
          "output_type": "execute_result",
          "data": {
            "text/plain": [
              "(50000, 32, 32, 3)"
            ]
          },
          "metadata": {},
          "execution_count": 2
        }
      ]
    },
    {
      "cell_type": "code",
      "metadata": {
        "colab": {
          "base_uri": "https://localhost:8080/"
        },
        "id": "vBZp_E8Jd7g1",
        "outputId": "9d0a9df8-2726-4763-d912-398e61396488"
      },
      "source": [
        "X_test.shape\n"
      ],
      "execution_count": null,
      "outputs": [
        {
          "output_type": "execute_result",
          "data": {
            "text/plain": [
              "(10000, 32, 32, 3)"
            ]
          },
          "metadata": {},
          "execution_count": 3
        }
      ]
    },
    {
      "cell_type": "code",
      "metadata": {
        "colab": {
          "base_uri": "https://localhost:8080/"
        },
        "id": "VNPAvC4Wd9MG",
        "outputId": "1b8694d8-e35f-4bfa-b891-eeabeaa10d7c"
      },
      "source": [
        "y_train.shape\n"
      ],
      "execution_count": null,
      "outputs": [
        {
          "output_type": "execute_result",
          "data": {
            "text/plain": [
              "(50000, 1)"
            ]
          },
          "metadata": {},
          "execution_count": 4
        }
      ]
    },
    {
      "cell_type": "code",
      "metadata": {
        "colab": {
          "base_uri": "https://localhost:8080/"
        },
        "id": "HOOXJ_SNd-Tr",
        "outputId": "087aba2e-4118-41e2-9e36-0d3a92e62022"
      },
      "source": [
        "y_train[:5]\n"
      ],
      "execution_count": null,
      "outputs": [
        {
          "output_type": "execute_result",
          "data": {
            "text/plain": [
              "array([[6],\n",
              "       [9],\n",
              "       [9],\n",
              "       [4],\n",
              "       [1]], dtype=uint8)"
            ]
          },
          "metadata": {},
          "execution_count": 5
        }
      ]
    },
    {
      "cell_type": "code",
      "metadata": {
        "id": "VhTmwoW9d_h-"
      },
      "source": [
        "y_train=y_train.reshape(-1,)"
      ],
      "execution_count": null,
      "outputs": []
    },
    {
      "cell_type": "code",
      "metadata": {
        "id": "mDDLm1-CeCYD"
      },
      "source": [
        "y_test = y_test.reshape(-1,)\n"
      ],
      "execution_count": null,
      "outputs": []
    },
    {
      "cell_type": "code",
      "metadata": {
        "id": "ksFNTjjJeG1Z"
      },
      "source": [
        "classes = [\"airplane\",\"automobile\",\"bird\",\"cat\",\"deer\",\"dog\",\"frog\",\"horse\",\"ship\",\"truck\"]\n"
      ],
      "execution_count": null,
      "outputs": []
    },
    {
      "cell_type": "code",
      "metadata": {
        "id": "Y2p4Y6WteIab"
      },
      "source": [
        "def plot_sample(X, y, index):\n",
        "    plt.figure(figsize = (15,2))\n",
        "    plt.imshow(X[index])\n",
        "    plt.xlabel(classes[y[index]])"
      ],
      "execution_count": null,
      "outputs": []
    },
    {
      "cell_type": "code",
      "metadata": {
        "colab": {
          "base_uri": "https://localhost:8080/",
          "height": 173
        },
        "id": "GqOysGnMeKCV",
        "outputId": "485f2619-797e-4545-d25a-5d494e0d390d"
      },
      "source": [
        "plot_sample(X_train, y_train, 0)\n"
      ],
      "execution_count": null,
      "outputs": [
        {
          "output_type": "display_data",
          "data": {
            "image/png": "[encoded data removed]",
            "text/plain": [
              "<Figure size 1080x144 with 1 Axes>"
            ]
          },
          "metadata": {
            "needs_background": "light"
          }
        }
      ]
    },
    {
      "cell_type": "code",
      "metadata": {
        "id": "REslhciweLqV"
      },
      "source": [
        "X_train = X_train / 255.0\n",
        "X_test = X_test / 255.0"
      ],
      "execution_count": null,
      "outputs": []
    },
    {
      "cell_type": "code",
      "metadata": {
        "colab": {
          "base_uri": "https://localhost:8080/"
        },
        "id": "S1kqOs4meNJX",
        "outputId": "c689f946-415f-49bf-8a8a-7df1e71af1e5"
      },
      "source": [
        "ann = models.Sequential([\n",
        "        layers.Flatten(input_shape=(32,32,3)),\n",
        "        layers.Dense(3000, activation='relu'),\n",
        "        layers.Dense(1000, activation='relu'),\n",
        "        layers.Dense(10, activation='softmax')    \n",
        "    ])\n",
        "\n",
        "ann.compile(optimizer='SGD',\n",
        "              loss='sparse_categorical_crossentropy',\n",
        "              metrics=['accuracy'])\n",
        "\n",
        "ann.fit(X_train, y_train, epochs=5)"
      ],
      "execution_count": null,
      "outputs": [
        {
          "output_type": "stream",
          "name": "stdout",
          "text": [
            "Epoch 1/5\n",
            "1563/1563 [==============================] - 108s 69ms/step - loss: 1.8138 - accuracy: 0.3507\n",
            "Epoch 2/5\n",
            "1563/1563 [==============================] - 113s 72ms/step - loss: 1.6240 - accuracy: 0.4276\n",
            "Epoch 3/5\n",
            "1563/1563 [==============================] - 111s 71ms/step - loss: 1.5396 - accuracy: 0.4563\n",
            "Epoch 4/5\n",
            "1563/1563 [==============================] - 110s 70ms/step - loss: 1.4811 - accuracy: 0.4794\n",
            "Epoch 5/5\n",
            "1563/1563 [==============================] - 111s 71ms/step - loss: 1.4343 - accuracy: 0.4949\n"
          ]
        },
        {
          "output_type": "execute_result",
          "data": {
            "text/plain": [
              "<keras.callbacks.History at 0x7f15e5c65210>"
            ]
          },
          "metadata": {},
          "execution_count": 12
        }
      ]
    },
    {
      "cell_type": "code",
      "metadata": {
        "colab": {
          "base_uri": "https://localhost:8080/"
        },
        "id": "8Z6NpYFkePIW",
        "outputId": "ea300109-71d0-4f0a-fbe0-58b79d43fbe4"
      },
      "source": [
        "from sklearn.metrics import confusion_matrix , classification_report\n",
        "import numpy as np\n",
        "y_pred = ann.predict(X_test)\n",
        "y_pred_classes = [np.argmax(element) for element in y_pred]\n",
        "\n",
        "print(\"Classification Report: \\n\", classification_report(y_test, y_pred_classes))"
      ],
      "execution_count": null,
      "outputs": [
        {
          "output_type": "stream",
          "name": "stdout",
          "text": [
            "Classification Report: \n",
            "               precision    recall  f1-score   support\n",
            "\n",
            "           0       0.59      0.48      0.53      1000\n",
            "           1       0.67      0.51      0.58      1000\n",
            "           2       0.49      0.12      0.19      1000\n",
            "           3       0.26      0.64      0.37      1000\n",
            "           4       0.47      0.33      0.39      1000\n",
            "           5       0.56      0.17      0.26      1000\n",
            "           6       0.42      0.68      0.52      1000\n",
            "           7       0.68      0.39      0.50      1000\n",
            "           8       0.58      0.69      0.63      1000\n",
            "           9       0.48      0.65      0.55      1000\n",
            "\n",
            "    accuracy                           0.47     10000\n",
            "   macro avg       0.52      0.47      0.45     10000\n",
            "weighted avg       0.52      0.47      0.45     10000\n",
            "\n"
          ]
        }
      ]
    },
    {
      "cell_type": "code",
      "metadata": {
        "id": "8w7DQ6JRgiU-"
      },
      "source": [
        "cnn=models.Sequential([\n",
        "                       \n",
        "                       #cnn\n",
        "                       layers.Conv2D(filters=32,kernel_size=(3,3),activation='relu',input_shape=(32,32,3)),\n",
        "                       layers.MaxPooling2D([2,2]),\n",
        "\n",
        "                       layers.Conv2D(filters=64,kernel_size=(3,3),activation='relu',input_shape=(32,32,3)),\n",
        "                       layers.MaxPooling2D([2,2]),\n",
        "\n",
        "                       #dense\n",
        "                       layers.Flatten(),\n",
        "                       layers.Dense(64,activation='relu'),\n",
        "                       layers.Dense(10,activation='softmax')\n",
        "])\n",
        "\n",
        "cnn.compile(optimizer='adam',\n",
        "              loss='sparse_categorical_crossentropy',\n",
        "              metrics=['accuracy'])"
      ],
      "execution_count": null,
      "outputs": []
    },
    {
      "cell_type": "code",
      "metadata": {
        "colab": {
          "base_uri": "https://localhost:8080/"
        },
        "id": "VDgHOjFmiBQb",
        "outputId": "e58a95aa-5b72-47be-d54c-a0989f3e3c4b"
      },
      "source": [
        "cnn.fit(X_train,y_train,epochs=5)  "
      ],
      "execution_count": null,
      "outputs": [
        {
          "output_type": "stream",
          "name": "stdout",
          "text": [
            "Epoch 1/5\n",
            "1563/1563 [==============================] - 67s 42ms/step - loss: 1.5109 - accuracy: 0.4576\n",
            "Epoch 2/5\n",
            "1563/1563 [==============================] - 69s 44ms/step - loss: 1.1428 - accuracy: 0.6003\n",
            "Epoch 3/5\n",
            "1563/1563 [==============================] - 73s 47ms/step - loss: 1.0146 - accuracy: 0.6442\n",
            "Epoch 4/5\n",
            "1563/1563 [==============================] - 79s 51ms/step - loss: 0.9312 - accuracy: 0.6757\n",
            "Epoch 5/5\n",
            "1563/1563 [==============================] - 77s 49ms/step - loss: 0.8642 - accuracy: 0.6997\n"
          ]
        },
        {
          "output_type": "execute_result",
          "data": {
            "text/plain": [
              "<keras.callbacks.History at 0x7f15e2e10310>"
            ]
          },
          "metadata": {},
          "execution_count": 16
        }
      ]
    },
    {
      "cell_type": "code",
      "metadata": {
        "colab": {
          "base_uri": "https://localhost:8080/"
        },
        "id": "3IyDnMTQiQA6",
        "outputId": "67d8b6ec-3ef6-44e7-d89e-703adef09575"
      },
      "source": [
        "cnn.evaluate(X_test,y_test)\n"
      ],
      "execution_count": null,
      "outputs": [
        {
          "output_type": "stream",
          "name": "stdout",
          "text": [
            "313/313 [==============================] - 5s 14ms/step - loss: 0.9343 - accuracy: 0.6769\n"
          ]
        },
        {
          "output_type": "execute_result",
          "data": {
            "text/plain": [
              "[0.9342976808547974, 0.6769000291824341]"
            ]
          },
          "metadata": {},
          "execution_count": 17
        }
      ]
    },
    {
      "cell_type": "code",
      "metadata": {
        "colab": {
          "base_uri": "https://localhost:8080/"
        },
        "id": "lMTupjewie1G",
        "outputId": "b668f3a9-085d-447f-f4ae-60a06ef6b139"
      },
      "source": [
        "y_pred = cnn.predict(X_test)\n",
        "y_pred[:5]"
      ],
      "execution_count": null,
      "outputs": [
        {
          "output_type": "execute_result",
          "data": {
            "text/plain": [
              "array([[3.07011447e-04, 1.15708928e-04, 1.95866991e-02, 8.60811234e-01,\n",
              "        5.17696608e-04, 8.05686936e-02, 1.08401077e-02, 1.84471792e-05,\n",
              "        2.67352108e-02, 4.99150425e-04],\n",
              "       [2.09761355e-02, 3.11384439e-01, 2.71219527e-04, 1.58142939e-06,\n",
              "        1.51186468e-05, 5.50531240e-07, 4.26356443e-08, 1.42145848e-06,\n",
              "        6.62129343e-01, 5.22014359e-03],\n",
              "       [5.44912741e-02, 2.92625040e-01, 2.71908520e-03, 1.50475092e-03,\n",
              "        6.35670091e-04, 2.67875817e-04, 1.01403726e-04, 5.56630199e-04,\n",
              "        6.19291961e-01, 2.78062876e-02],\n",
              "       [7.82608569e-01, 1.24037474e-01, 2.77179517e-02, 2.84367194e-03,\n",
              "        4.21923818e-03, 2.05608638e-04, 1.57846895e-03, 4.67342499e-04,\n",
              "        5.32138757e-02, 3.10787139e-03],\n",
              "       [2.61135028e-05, 8.76303020e-05, 1.10974170e-01, 1.56203315e-01,\n",
              "        3.28341752e-01, 8.79753157e-02, 3.15279186e-01, 1.01021556e-04,\n",
              "        9.86334635e-04, 2.51270048e-05]], dtype=float32)"
            ]
          },
          "metadata": {},
          "execution_count": 18
        }
      ]
    },
    {
      "cell_type": "code",
      "metadata": {
        "colab": {
          "base_uri": "https://localhost:8080/"
        },
        "id": "uqkCYfybiglC",
        "outputId": "6a60b03d-bdc0-403a-e620-733b55586614"
      },
      "source": [
        "y_classes=[np.argmax(element) for element in y_pred]\n",
        "y_classes[0:5]"
      ],
      "execution_count": null,
      "outputs": [
        {
          "output_type": "execute_result",
          "data": {
            "text/plain": [
              "[3, 8, 8, 0, 4]"
            ]
          },
          "metadata": {},
          "execution_count": 24
        }
      ]
    },
    {
      "cell_type": "code",
      "metadata": {
        "colab": {
          "base_uri": "https://localhost:8080/"
        },
        "id": "5vp1InNuijLC",
        "outputId": "04eea883-af1d-4ce7-8fc5-222146d4c379"
      },
      "source": [
        "y_test[:5]"
      ],
      "execution_count": null,
      "outputs": [
        {
          "output_type": "execute_result",
          "data": {
            "text/plain": [
              "array([3, 8, 8, 0, 6], dtype=uint8)"
            ]
          },
          "metadata": {},
          "execution_count": 20
        }
      ]
    },
    {
      "cell_type": "code",
      "metadata": {
        "id": "T1GUK_rfiku8"
      },
      "source": [
        ""
      ],
      "execution_count": null,
      "outputs": []
    },
    {
      "cell_type": "code",
      "metadata": {
        "id": "Lv6wp0KpqapP"
      },
      "source": [
        ""
      ],
      "execution_count": null,
      "outputs": []
    }
  ]
}
